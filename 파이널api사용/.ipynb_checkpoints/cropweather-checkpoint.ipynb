{
 "cells": [
  {
   "cell_type": "code",
   "execution_count": null,
   "metadata": {},
   "outputs": [],
   "source": [
    "from modules import connection as cn ,apiurl as au\n",
    "from modules.dataprocess import DataProcess\n",
    "from bs4 import BeautifulSoup\n",
    "import math\n",
    "\n",
    "api_url=au.crop_weather_url()\n",
    "soup=cn.getSoup(api_url+\"1\")\n",
    "dp=DataProcess()\n",
    "totalcount=int(soup.find(\"totalcount\").text)\n",
    "numofrows=int(soup.find(\"numofrows\").text)\n",
    "pageMaxNum=math.ceil(totalcount/numofrows)\n",
    "data=[]\n",
    "for itr in range(pageMaxNum):\n",
    "    soup=cn.getSoup(api_url+str(itr+1))\n",
    "    #item 안의 모든 자식을 해당 자식의 name:text 형태로 딕셔러니를 만든다\n",
    "    #item 한개당 한개의 자식 딕셔너리 리스트를 원소로하는 리스트를 만들고\n",
    "    #모든 item리스를 모아 data에저장한다.\n",
    "    #data=[ {ele.name:ele.text.split(\" \")[0]} for item in soup.find_all(\"item\") for ele in item ]\n",
    "    for item in soup.find_all(\"item\"):\n",
    "        row={}\n",
    "        for ele in item:\n",
    "            row.update({ele.name:ele.text.split(\" \")[0]})\n",
    "        data.append(row)\n",
    "if len(data)!=0:\n",
    "    dp.setDataList(data)\n",
    "else:\n",
    "    print(\"no data to fetch!\")\n",
    "dp.writeToCsv()"
   ]
  },
  {
   "cell_type": "code",
   "execution_count": null,
   "metadata": {},
   "outputs": [],
   "source": [
    "print(api_url)"
   ]
  },
  {
   "cell_type": "code",
   "execution_count": null,
   "metadata": {},
   "outputs": [],
   "source": [
    "import pandas as pd\n",
    "\n",
    "\n",
    "df=pd.DataFrame(data)\n",
    "df.to_csv(\"c:\\\\Bigdata\\\\finaltest\\\\result.csv\")"
   ]
  },
  {
   "cell_type": "code",
   "execution_count": null,
   "metadata": {},
   "outputs": [],
   "source": [
    "df"
   ]
  },
  {
   "cell_type": "code",
   "execution_count": null,
   "metadata": {},
   "outputs": [],
   "source": [
    "import math\n",
    "\n",
    "totalcount=32\n",
    "print(totalcount/numofrows)\n",
    "pageMaxNum=math.ceil(totalcount/numofrows)\n",
    "print(pageMaxNum)"
   ]
  },
  {
   "cell_type": "code",
   "execution_count": null,
   "metadata": {},
   "outputs": [],
   "source": [
    "print(rep_)"
   ]
  },
  {
   "cell_type": "code",
   "execution_count": null,
   "metadata": {},
   "outputs": [],
   "source": []
  },
  {
   "cell_type": "code",
   "execution_count": 4,
   "metadata": {},
   "outputs": [
    {
     "ename": "NameError",
     "evalue": "name 'start_date' is not defined",
     "output_type": "error",
     "traceback": [
      "\u001b[1;31m---------------------------------------------------------------------------\u001b[0m",
      "\u001b[1;31mNameError\u001b[0m                                 Traceback (most recent call last)",
      "\u001b[1;32m<ipython-input-4-7ee9800b7baa>\u001b[0m in \u001b[0;36m<module>\u001b[1;34m\u001b[0m\n\u001b[1;32m----> 1\u001b[1;33m \u001b[0mapi_url\u001b[0m\u001b[1;33m=\u001b[0m\u001b[0mau\u001b[0m\u001b[1;33m.\u001b[0m\u001b[0mcrop_weather_url\u001b[0m\u001b[1;33m(\u001b[0m\u001b[0mstart_date\u001b[0m\u001b[1;33m,\u001b[0m\u001b[0mend_date\u001b[0m\u001b[1;33m,\u001b[0m\u001b[0marea\u001b[0m\u001b[1;33m,\u001b[0m\u001b[0mcrop\u001b[0m\u001b[1;33m)\u001b[0m\u001b[1;33m\u001b[0m\u001b[1;33m\u001b[0m\u001b[0m\n\u001b[0m\u001b[0;32m      2\u001b[0m \u001b[0msoup\u001b[0m\u001b[1;33m=\u001b[0m\u001b[0mcn\u001b[0m\u001b[1;33m.\u001b[0m\u001b[0mgetSoup\u001b[0m\u001b[1;33m(\u001b[0m\u001b[0mapi_url\u001b[0m\u001b[1;33m+\u001b[0m\u001b[1;34m\"1\"\u001b[0m\u001b[1;33m)\u001b[0m\u001b[1;33m\u001b[0m\u001b[1;33m\u001b[0m\u001b[0m\n\u001b[0;32m      3\u001b[0m \u001b[0mdp\u001b[0m\u001b[1;33m=\u001b[0m\u001b[0mDataProcess\u001b[0m\u001b[1;33m(\u001b[0m\u001b[1;33m)\u001b[0m\u001b[1;33m\u001b[0m\u001b[1;33m\u001b[0m\u001b[0m\n\u001b[0;32m      4\u001b[0m \u001b[0mtotalcount\u001b[0m\u001b[1;33m=\u001b[0m\u001b[0mint\u001b[0m\u001b[1;33m(\u001b[0m\u001b[0msoup\u001b[0m\u001b[1;33m.\u001b[0m\u001b[0mfind\u001b[0m\u001b[1;33m(\u001b[0m\u001b[1;34m\"totalcount\"\u001b[0m\u001b[1;33m)\u001b[0m\u001b[1;33m.\u001b[0m\u001b[0mtext\u001b[0m\u001b[1;33m)\u001b[0m\u001b[1;33m\u001b[0m\u001b[1;33m\u001b[0m\u001b[0m\n\u001b[0;32m      5\u001b[0m \u001b[0mnumofrows\u001b[0m\u001b[1;33m=\u001b[0m\u001b[0mint\u001b[0m\u001b[1;33m(\u001b[0m\u001b[0msoup\u001b[0m\u001b[1;33m.\u001b[0m\u001b[0mfind\u001b[0m\u001b[1;33m(\u001b[0m\u001b[1;34m\"numofrows\"\u001b[0m\u001b[1;33m)\u001b[0m\u001b[1;33m.\u001b[0m\u001b[0mtext\u001b[0m\u001b[1;33m)\u001b[0m\u001b[1;33m\u001b[0m\u001b[1;33m\u001b[0m\u001b[0m\n",
      "\u001b[1;31mNameError\u001b[0m: name 'start_date' is not defined"
     ]
    }
   ],
   "source": [
    "    api_url=au.crop_weather_url(start_date,end_date,area,crop)\n",
    "    soup=cn.getSoup(api_url+\"1\")\n",
    "    dp=DataProcess()\n",
    "    totalcount=int(soup.find(\"totalcount\").text)\n",
    "    numofrows=int(soup.find(\"numofrows\").text)\n",
    "    pageMaxNum=math.ceil(totalcount/numofrows)\n",
    "    data=[]\n",
    "    for itr in range(pageMaxNum):\n",
    "        soup=cn.getSoup(api_url+str(itr+1))\n",
    "    #item 안의 모든 자식을 해당 자식의 name:text 형태로 딕셔러니를 만든다\n",
    "    #item 한개당 한개의 자식 딕셔너리 리스트를 원소로하는 리스트를 만들고\n",
    "    #모든 item리스를 모아 data에저장한다.\n",
    "    #data=[ {ele.name:ele.text.split(\" \")[0]} for item in soup.find_all(\"item\") for ele in item ]\n",
    "        for item in soup.find_all(\"item\"):\n",
    "            row={}\n",
    "            for ele in item:\n",
    "                row.update({ele.name:ele.text.split(\" \")[0]})\n",
    "            data.append(row)\n",
    "    if len(data)!=0:\n",
    "        dp.setDataList(data)\n",
    "    else:\n",
    "        print(\"no data to fetch!\")\n",
    "    dp.writeToCsv(\"FROM=\"+start_date+\"END=\"+end_date+\" \")"
   ]
  },
  {
   "cell_type": "code",
   "execution_count": null,
   "metadata": {},
   "outputs": [],
   "source": []
  },
  {
   "cell_type": "code",
   "execution_count": null,
   "metadata": {},
   "outputs": [],
   "source": []
  },
  {
   "cell_type": "code",
   "execution_count": null,
   "metadata": {},
   "outputs": [],
   "source": []
  },
  {
   "cell_type": "code",
   "execution_count": null,
   "metadata": {},
   "outputs": [],
   "source": []
  },
  {
   "cell_type": "code",
   "execution_count": null,
   "metadata": {},
   "outputs": [],
   "source": []
  }
 ],
 "metadata": {
  "kernelspec": {
   "display_name": "Python 3",
   "language": "python",
   "name": "python3"
  },
  "language_info": {
   "codemirror_mode": {
    "name": "ipython",
    "version": 3
   },
   "file_extension": ".py",
   "mimetype": "text/x-python",
   "name": "python",
   "nbconvert_exporter": "python",
   "pygments_lexer": "ipython3",
   "version": "3.7.1"
  }
 },
 "nbformat": 4,
 "nbformat_minor": 2
}
