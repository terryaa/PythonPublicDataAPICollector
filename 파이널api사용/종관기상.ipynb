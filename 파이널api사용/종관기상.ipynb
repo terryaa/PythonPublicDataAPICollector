{
 "cells": [
  {
   "cell_type": "code",
   "execution_count": 2,
   "metadata": {},
   "outputs": [
    {
     "name": "stdout",
     "output_type": "stream",
     "text": [
      "9\n",
      "HTTP 에러, 다시시도합니다. 계속생길시 프로그램 강제종료하세요\n",
      "HTTP 에러, 다시시도합니다. 계속생길시 프로그램 강제종료하세요\n",
      "HTTP 에러, 다시시도합니다. 계속생길시 프로그램 강제종료하세요\n",
      "HTTP 에러, 다시시도합니다. 계속생길시 프로그램 강제종료하세요\n",
      "HTTP 에러, 다시시도합니다. 계속생길시 프로그램 강제종료하세요\n",
      "HTTP 에러, 다시시도합니다. 계속생길시 프로그램 강제종료하세요\n",
      "HTTP 에러, 다시시도합니다. 계속생길시 프로그램 강제종료하세요\n",
      "HTTP 에러, 다시시도합니다. 계속생길시 프로그램 강제종료하세요\n",
      "HTTP 에러, 다시시도합니다. 계속생길시 프로그램 강제종료하세요\n",
      "HTTP 에러, 다시시도합니다. 계속생길시 프로그램 강제종료하세요\n",
      "HTTP 에러, 다시시도합니다. 계속생길시 프로그램 강제종료하세요\n"
     ]
    }
   ],
   "source": [
    "from modules import connection as cn ,apiurl as au\n",
    "from modules.dataprocess import DataProcess\n",
    "from bs4 import BeautifulSoup\n",
    "from bs4.element import Tag\n",
    "from datetime import date\n",
    "import math\n",
    "\n",
    "api_url=au.weather_point_url(start_date,end_date)\n",
    "dp=DataProcess()\n",
    "data=[]\n",
    "delta= date(int(end_date[:4]), int(end_date[4:6]), int(end_date[6:8])) -date(int(start_date[:4]), int(start_date[4:6]), int(start_date[6:8]))\n",
    "for itr in range(math.ceil(delta.days/10)):\n",
    "    soup=cn.getSoup(api_url+str(itr+1))\n",
    "    #item 안의 모든 자식을 해당 자식의 name:text 형태로 딕셔러니를 만든다\n",
    "    #item 한개당 한개의 자식 딕셔너리 리스트를 원소로하는 리스트를 만들고\n",
    "    #모든 item리스를 모아 data에저장한다.\n",
    "    #data=[ {ele.name:ele.text.split(\" \")[0]} for item in soup.find_all(\"item\") for ele in item ]\n",
    "    if isinstance(soup,BeautifulSoup):\n",
    "        for item in soup.find_all(\"info\"):\n",
    "            row={}\n",
    "            for ele in item:\n",
    "                if isinstance(ele,Tag):\n",
    "                    row.update({ele.name:ele.string.split(\" \")[0]})\n",
    "            data.append(row)\n",
    "if len(data)!=0:\n",
    "    dp.setDataList(data)\n",
    "else:\n",
    "    print(\"no data to fetch!\")\n",
    "dp.writeToCsv(\"천안 종관기상FROM=\"+start_date+\"END=\"+end_date+\" \")"
   ]
  },
  {
   "cell_type": "code",
   "execution_count": 1,
   "metadata": {},
   "outputs": [],
   "source": [
    "start_date=\"20130101\"\n",
    "end_date=\"20130330\""
   ]
  },
  {
   "cell_type": "code",
   "execution_count": null,
   "metadata": {},
   "outputs": [],
   "source": [
    "api_url=au.weather_point_url(start_date,end_date)"
   ]
  },
  {
   "cell_type": "code",
   "execution_count": 3,
   "metadata": {},
   "outputs": [
    {
     "name": "stdout",
     "output_type": "stream",
     "text": [
      "https://data.kma.go.kr/apiData/getData?type=xml&dataCd=ASOS&dateCd=DAY&startDt=20130101&endDt=20130330&stnIds=232&schListCnt=10&apiKey=iMugf3SvQ64Tw6TpPj5NJrXdtYKDxzdx6NBI0vBa1Qsynh6%2BcnZJXOjYE2q9ucTi&pageIndex=\n"
     ]
    }
   ],
   "source": [
    "print(api_url)"
   ]
  },
  {
   "cell_type": "code",
   "execution_count": null,
   "metadata": {},
   "outputs": [],
   "source": [
    "soup=cn.getSoup(api_url+\"1\")"
   ]
  },
  {
   "cell_type": "code",
   "execution_count": null,
   "metadata": {},
   "outputs": [],
   "source": [
    "for item in soup.find_all(\"info\"):\n",
    "    row={}\n",
    "    for ele in item.children:\n",
    "        if isinstance(ele,Tag):\n",
    "        row.update({ele.name:ele.string.split(\" \")[0]})"
   ]
  },
  {
   "cell_type": "code",
   "execution_count": null,
   "metadata": {},
   "outputs": [],
   "source": [
    "from datetime import date\n",
    "\n",
    "\n",
    "d0 = date(int(start_date[:4]), int(start_date[4:6]), int(start_date[6:8]))\n",
    "d1 = date(int(end_date[:4]), int(end_date[4:6]), int(end_date[6:8]))\n",
    "delta=d1-d0\n",
    "print(delta.days)"
   ]
  },
  {
   "cell_type": "code",
   "execution_count": null,
   "metadata": {},
   "outputs": [],
   "source": [
    "print(start_date[4:5])"
   ]
  },
  {
   "cell_type": "code",
   "execution_count": null,
   "metadata": {},
   "outputs": [],
   "source": []
  }
 ],
 "metadata": {
  "kernelspec": {
   "display_name": "Python 3",
   "language": "python",
   "name": "python3"
  },
  "language_info": {
   "codemirror_mode": {
    "name": "ipython",
    "version": 3
   },
   "file_extension": ".py",
   "mimetype": "text/x-python",
   "name": "python",
   "nbconvert_exporter": "python",
   "pygments_lexer": "ipython3",
   "version": "3.7.1"
  }
 },
 "nbformat": 4,
 "nbformat_minor": 2
}
