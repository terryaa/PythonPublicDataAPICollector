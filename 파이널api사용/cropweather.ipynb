{
 "cells": [
  {
   "cell_type": "code",
   "execution_count": null,
   "metadata": {},
   "outputs": [],
   "source": [
    "from modules import connection as cn ,apiurl as au\n",
    "from modules.dataprocess import DataProcess\n",
    "from bs4 import BeautifulSoup\n",
    "import math\n",
    "\n",
    "api_url=au.crop_weather_url()\n",
    "soup=cn.getSoup(api_url+\"1\")\n",
    "dp=DataProcess()\n",
    "totalcount=int(soup.find(\"totalcount\").text)\n",
    "numofrows=int(soup.find(\"numofrows\").text)\n",
    "pageMaxNum=math.ceil(totalcount/numofrows)\n",
    "data=[]\n",
    "for itr in range(pageMaxNum):\n",
    "    soup=cn.getSoup(api_url+str(itr+1))\n",
    "    #item 안의 모든 자식을 해당 자식의 name:text 형태로 딕셔러니를 만든다\n",
    "    #item 한개당 한개의 자식 딕셔너리 리스트를 원소로하는 리스트를 만들고\n",
    "    #모든 item리스를 모아 data에저장한다.\n",
    "    #data=[ {ele.name:ele.text.split(\" \")[0]} for item in soup.find_all(\"item\") for ele in item ]\n",
    "    for item in soup.find_all(\"item\"):\n",
    "        row={}\n",
    "        for ele in item:\n",
    "            row.update({ele.name:ele.text.split(\" \")[0]})\n",
    "        data.append(row)\n",
    "if len(data)!=0:\n",
    "    dp.setDataList(data)\n",
    "else:\n",
    "    print(\"no data to fetch!\")\n",
    "dp.writeToCsv()"
   ]
  },
  {
   "cell_type": "code",
   "execution_count": null,
   "metadata": {},
   "outputs": [],
   "source": [
    "print(api_url)"
   ]
  },
  {
   "cell_type": "code",
   "execution_count": null,
   "metadata": {},
   "outputs": [],
   "source": [
    "import pandas as pd\n",
    "\n",
    "\n",
    "df=pd.DataFrame(data)\n",
    "df.to_csv(\"c:\\\\Bigdata\\\\finaltest\\\\result.csv\")"
   ]
  },
  {
   "cell_type": "code",
   "execution_count": null,
   "metadata": {},
   "outputs": [],
   "source": [
    "df"
   ]
  },
  {
   "cell_type": "code",
   "execution_count": null,
   "metadata": {},
   "outputs": [],
   "source": [
    "import math\n",
    "\n",
    "totalcount=32\n",
    "print(totalcount/numofrows)\n",
    "pageMaxNum=math.ceil(totalcount/numofrows)\n",
    "print(pageMaxNum)"
   ]
  },
  {
   "cell_type": "code",
   "execution_count": null,
   "metadata": {},
   "outputs": [],
   "source": [
    "print(rep_)"
   ]
  },
  {
   "cell_type": "raw",
   "metadata": {},
   "source": []
  },
  {
   "cell_type": "code",
   "execution_count": 1,
   "metadata": {},
   "outputs": [],
   "source": [
    "start_date=\"20130101\"\n",
    "end_date=\"20130110\"\n",
    "area=\"나주\"\n",
    "crop=\"배\""
   ]
  },
  {
   "cell_type": "code",
   "execution_count": 2,
   "metadata": {},
   "outputs": [],
   "source": [
    "from modules import connection as cn ,apiurl as au\n",
    "from modules.dataprocess import DataProcess\n",
    "from bs4 import BeautifulSoup\n",
    "import math\n",
    "\n",
    "api_url=au.crop_weather_url(start_date,end_date,area,crop)\n",
    "soup=cn.getSoup(api_url+\"1\")\n",
    "dp=DataProcess()\n",
    "totalcount=int(soup.find(\"totalcount\").text)\n",
    "numofrows=int(soup.find(\"numofrows\").text)\n",
    "pageMaxNum=math.ceil(totalcount/numofrows)\n",
    "data=[]\n",
    "for itr in range(pageMaxNum):\n",
    "    soup=cn.getSoup(api_url+str(itr+1))\n",
    "    #item 안의 모든 자식을 해당 자식의 name:text 형태로 딕셔러니를 만든다\n",
    "    #item 한개당 한개의 자식 딕셔너리 리스트를 원소로하는 리스트를 만들고\n",
    "    #모든 item리스를 모아 data에저장한다.\n",
    "    #data=[ {ele.name:ele.text.split(\" \")[0]} for item in soup.find_all(\"item\") for ele in item ]\n",
    "    for item in soup.find_all(\"item\"):\n",
    "        row={}\n",
    "        for ele in item:\n",
    "            row.update({ele.name:ele.text.split(\" \")[0]})\n",
    "        data.append(row)\n",
    "if len(data)!=0:\n",
    "    dp.setDataList(data)\n",
    "else:\n",
    "    print(\"no data to fetch!\")\n",
    "dp.writeToCsv(\"FROM=\"+start_date+\"END=\"+end_date+\" \")"
   ]
  },
  {
   "cell_type": "code",
   "execution_count": 5,
   "metadata": {},
   "outputs": [
    {
     "name": "stdout",
     "output_type": "stream",
     "text": [
      "http://newsky2.kma.go.kr/service/ProductingAreaInfoService/DayStats?ST_YMD=20130101&ED_YMD=20130110&AREA_ID=4617000000&PA_CROP_SPE_ID=PA160101&serviceKey=jAkk5tTEPGKz1Zs6w%2FbGGpkPBCc%2BrrJcw2QI9LfcrYD77m2cQJWDgzZP14xOPIOpZQWJm2P2nC2ZsaacfYxcLw%3D%3D&pageNo=\n"
     ]
    }
   ],
   "source": [
    "print(api_url)"
   ]
  },
  {
   "cell_type": "code",
   "execution_count": null,
   "metadata": {},
   "outputs": [],
   "source": []
  },
  {
   "cell_type": "code",
   "execution_count": null,
   "metadata": {},
   "outputs": [],
   "source": []
  },
  {
   "cell_type": "code",
   "execution_count": null,
   "metadata": {},
   "outputs": [],
   "source": []
  },
  {
   "cell_type": "code",
   "execution_count": null,
   "metadata": {},
   "outputs": [],
   "source": []
  }
 ],
 "metadata": {
  "kernelspec": {
   "display_name": "Python 3",
   "language": "python",
   "name": "python3"
  },
  "language_info": {
   "codemirror_mode": {
    "name": "ipython",
    "version": 3
   },
   "file_extension": ".py",
   "mimetype": "text/x-python",
   "name": "python",
   "nbconvert_exporter": "python",
   "pygments_lexer": "ipython3",
   "version": "3.7.1"
  }
 },
 "nbformat": 4,
 "nbformat_minor": 2
}
